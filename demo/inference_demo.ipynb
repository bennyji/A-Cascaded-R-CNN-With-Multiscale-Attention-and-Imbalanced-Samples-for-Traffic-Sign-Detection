{
 "cells": [
  {
   "cell_type": "code",
   "execution_count": 1,
   "metadata": {},
   "outputs": [],
   "source": [
    "from mmdet.apis import init_detector, inference_detector, show_result\n",
    "import mmcv"
   ]
  },
  {
   "cell_type": "code",
   "execution_count": 2,
   "metadata": {},
   "outputs": [],
   "source": [
    "config_file = '../configs/libra_rcnn/GTSDB/2_cascade_rcnn_r50_fpn_1x.py'# download the checkpoint from model zoo and put it in `checkpoints/`\n",
    "checkpoint_file = '../work_dirs/2_GTSDB/epoch_11.pth'"
   ]
  },
  {
   "cell_type": "code",
   "execution_count": 3,
   "metadata": {},
   "outputs": [
    {
     "name": "stdout",
     "output_type": "stream",
     "text": [
      "The model and loaded state dict do not match exactly\n",
      "\n",
      "missing keys in source state_dict: backbone.layer3.8.bn1.weight, backbone.layer3.9.bn2.bias, backbone.layer3.8.bn1.bias, backbone.layer3.18.bn2.running_var, backbone.layer3.16.conv1.weight, backbone.layer3.17.bn2.running_var, backbone.layer3.18.bn2.running_mean, backbone.layer3.21.bn2.running_var, backbone.layer3.16.bn2.running_var, backbone.layer3.19.bn3.weight, backbone.layer3.14.bn2.bias, backbone.layer3.19.bn2.running_mean, backbone.layer3.20.conv3.weight, backbone.layer3.9.conv1.weight, backbone.layer3.13.bn1.bias, backbone.layer3.8.bn3.weight, backbone.layer3.12.bn2.bias, backbone.layer3.21.bn2.bias, backbone.layer3.17.bn3.weight, backbone.layer3.10.bn3.weight, backbone.layer3.10.bn3.running_var, backbone.layer3.9.bn1.running_mean, backbone.layer3.11.bn3.running_var, backbone.layer3.16.conv3.weight, backbone.layer3.16.conv2.weight, backbone.layer3.15.bn3.weight, backbone.layer3.20.bn1.running_var, backbone.layer3.11.bn1.running_var, backbone.layer3.16.bn3.running_mean, backbone.layer3.8.bn2.running_var, backbone.layer3.11.bn3.bias, backbone.layer3.20.bn2.bias, backbone.layer3.21.bn1.running_mean, backbone.layer3.13.bn1.running_var, backbone.layer3.19.bn3.bias, backbone.layer3.12.bn3.running_var, backbone.layer3.16.bn2.bias, backbone.layer3.11.bn1.bias, backbone.layer3.10.conv1.weight, backbone.layer3.15.bn3.bias, backbone.layer3.14.bn3.weight, backbone.layer3.15.conv1.weight, backbone.layer3.20.bn2.running_mean, backbone.layer3.7.bn3.running_var, backbone.layer3.13.bn3.running_mean, backbone.layer3.6.conv2.weight, backbone.layer3.17.bn1.weight, backbone.layer3.18.bn2.bias, backbone.layer3.6.bn1.running_mean, backbone.layer3.13.bn2.bias, backbone.layer3.8.bn1.running_var, backbone.layer3.21.bn3.bias, backbone.layer3.14.bn3.bias, backbone.layer3.19.conv2.weight, backbone.layer3.11.conv2.weight, backbone.layer3.19.bn3.running_mean, backbone.layer3.9.bn1.weight, backbone.layer3.10.bn2.weight, backbone.layer3.12.bn1.weight, backbone.layer3.15.bn1.running_var, backbone.layer3.7.bn3.bias, backbone.layer3.7.bn1.running_var, backbone.layer3.17.bn1.bias, backbone.layer3.12.bn3.running_mean, backbone.layer3.19.conv1.weight, backbone.layer3.16.bn3.running_var, backbone.layer3.6.bn3.running_mean, backbone.layer3.17.conv1.weight, backbone.layer3.20.conv1.weight, backbone.layer3.10.bn3.bias, backbone.layer3.6.bn2.weight, backbone.layer3.19.bn1.weight, backbone.layer3.20.bn2.weight, backbone.layer3.17.conv3.weight, backbone.layer3.7.bn1.weight, backbone.layer3.6.conv3.weight, backbone.layer3.14.bn3.running_var, backbone.layer3.8.conv1.weight, backbone.layer3.8.bn2.running_mean, backbone.layer3.22.bn2.running_var, backbone.layer3.16.bn3.weight, backbone.layer3.22.bn1.running_var, backbone.layer3.7.bn3.running_mean, backbone.layer3.17.bn1.running_mean, backbone.layer3.7.bn1.bias, backbone.layer3.10.bn3.running_mean, backbone.layer3.8.conv2.weight, backbone.layer3.11.bn2.weight, backbone.layer3.14.bn1.weight, backbone.layer3.15.bn3.running_mean, backbone.layer3.18.bn2.weight, backbone.layer3.7.conv3.weight, backbone.layer3.19.bn2.bias, backbone.layer3.21.bn1.weight, backbone.layer3.6.conv1.weight, backbone.layer3.18.bn1.running_var, backbone.layer3.15.bn1.bias, backbone.layer3.8.bn3.running_var, backbone.layer3.12.bn1.bias, backbone.layer3.17.bn1.running_var, backbone.layer3.21.bn2.running_mean, backbone.layer3.20.bn3.running_mean, backbone.layer3.19.bn2.running_var, backbone.layer3.14.conv1.weight, backbone.layer3.14.bn1.running_mean, backbone.layer3.6.bn1.bias, backbone.layer3.18.bn3.running_var, backbone.layer3.21.bn3.running_mean, backbone.layer3.10.bn1.running_var, backbone.layer3.13.bn2.running_var, backbone.layer3.19.bn1.running_var, backbone.layer3.12.bn2.running_mean, backbone.layer3.14.bn1.bias, backbone.layer3.15.bn1.weight, backbone.layer3.16.bn3.bias, backbone.layer3.18.bn1.running_mean, backbone.layer3.14.bn3.running_mean, backbone.layer3.9.conv3.weight, backbone.layer3.16.bn2.running_mean, backbone.layer3.15.conv2.weight, backbone.layer3.11.bn2.running_var, backbone.layer3.11.bn3.running_mean, backbone.layer3.18.conv2.weight, backbone.layer3.22.bn3.running_mean, backbone.layer3.21.conv2.weight, backbone.layer3.9.bn3.bias, backbone.layer3.20.bn3.running_var, backbone.layer3.18.bn3.weight, backbone.layer3.16.bn1.running_mean, backbone.layer3.6.bn2.running_var, backbone.layer3.8.conv3.weight, backbone.layer3.18.bn3.bias, backbone.layer3.17.bn3.running_mean, backbone.layer3.22.bn2.bias, backbone.layer3.22.bn1.running_mean, backbone.layer3.11.conv3.weight, backbone.layer3.9.bn3.weight, backbone.layer3.12.bn3.weight, backbone.layer3.14.bn2.running_var, backbone.layer3.7.conv1.weight, backbone.layer3.14.conv3.weight, backbone.layer3.13.bn3.bias, backbone.layer3.22.conv2.weight, backbone.layer3.18.conv1.weight, backbone.layer3.10.bn1.running_mean, backbone.layer3.6.bn3.weight, backbone.layer3.13.conv2.weight, backbone.layer3.13.bn1.weight, backbone.layer3.8.bn3.bias, backbone.layer3.7.bn3.weight, backbone.layer3.11.conv1.weight, backbone.layer3.17.bn2.bias, backbone.layer3.20.bn3.bias, backbone.layer3.15.bn3.running_var, backbone.layer3.13.conv3.weight, backbone.layer3.19.bn1.running_mean, backbone.layer3.15.bn2.running_mean, backbone.layer3.12.conv3.weight, backbone.layer3.8.bn1.running_mean, backbone.layer3.9.bn1.bias, backbone.layer3.9.bn3.running_mean, backbone.layer3.9.bn2.running_mean, backbone.layer3.15.bn2.running_var, backbone.layer3.21.bn3.running_var, backbone.layer3.13.bn2.running_mean, backbone.layer3.17.bn2.weight, backbone.layer3.22.bn2.running_mean, backbone.layer3.8.bn2.weight, backbone.layer3.20.bn1.running_mean, backbone.layer3.17.bn3.running_var, backbone.layer3.22.bn1.bias, backbone.layer3.22.bn3.running_var, backbone.layer3.19.bn3.running_var, backbone.layer3.15.bn2.weight, backbone.layer3.10.bn2.running_mean, backbone.layer3.10.bn2.running_var, backbone.layer3.20.bn3.weight, backbone.layer3.14.conv2.weight, backbone.layer3.22.bn3.weight, backbone.layer3.10.bn1.weight, backbone.layer3.10.conv2.weight, backbone.layer3.16.bn1.running_var, backbone.layer3.19.bn2.weight, backbone.layer3.7.bn2.running_var, backbone.layer3.9.bn1.running_var, backbone.layer3.14.bn2.weight, backbone.layer3.14.bn1.running_var, backbone.layer3.17.bn3.bias, backbone.layer3.12.bn2.running_var, backbone.layer3.12.bn2.weight, backbone.layer3.11.bn1.running_mean, backbone.layer3.12.conv2.weight, backbone.layer3.13.bn3.weight, backbone.layer3.6.bn3.bias, backbone.layer3.20.bn1.weight, backbone.layer3.12.bn3.bias, backbone.layer3.10.bn2.bias, backbone.layer3.18.bn1.bias, backbone.layer3.6.bn2.running_mean, backbone.layer3.6.bn1.weight, backbone.layer3.18.conv3.weight, backbone.layer3.15.bn2.bias, backbone.layer3.21.bn1.bias, backbone.layer3.11.bn2.bias, backbone.layer3.8.bn3.running_mean, backbone.layer3.21.bn2.weight, backbone.layer3.9.conv2.weight, backbone.layer3.13.bn2.weight, backbone.layer3.10.conv3.weight, backbone.layer3.13.bn1.running_mean, backbone.layer3.21.conv1.weight, backbone.layer3.22.conv3.weight, backbone.layer3.8.bn2.bias, backbone.layer3.7.bn2.bias, backbone.layer3.11.bn1.weight, backbone.layer3.13.conv1.weight, backbone.layer3.20.bn1.bias, backbone.layer3.9.bn3.running_var, backbone.layer3.9.bn2.running_var, backbone.layer3.12.conv1.weight, backbone.layer3.18.bn3.running_mean, backbone.layer3.7.conv2.weight, backbone.layer3.14.bn2.running_mean, backbone.layer3.16.bn1.bias, backbone.layer3.7.bn2.weight, backbone.layer3.21.conv3.weight, backbone.layer3.6.bn1.running_var, backbone.layer3.18.bn1.weight, backbone.layer3.16.bn1.weight, backbone.layer3.16.bn2.weight, backbone.layer3.20.bn2.running_var, backbone.layer3.17.conv2.weight, backbone.layer3.12.bn1.running_mean, backbone.layer3.19.bn1.bias, backbone.layer3.20.conv2.weight, backbone.layer3.13.bn3.running_var, backbone.layer3.12.bn1.running_var, backbone.layer3.11.bn3.weight, backbone.layer3.22.bn2.weight, backbone.layer3.21.bn3.weight, backbone.layer3.21.bn1.running_var, backbone.layer3.22.conv1.weight, backbone.layer3.15.conv3.weight, backbone.layer3.6.bn3.running_var, backbone.layer3.15.bn1.running_mean, backbone.layer3.7.bn1.running_mean, backbone.layer3.9.bn2.weight, backbone.layer3.11.bn2.running_mean, backbone.layer3.17.bn2.running_mean, backbone.layer3.22.bn3.bias, backbone.layer3.6.bn2.bias, backbone.layer3.22.bn1.weight, backbone.layer3.10.bn1.bias, backbone.layer3.19.conv3.weight, backbone.layer3.7.bn2.running_mean\n",
      "\n"
     ]
    }
   ],
   "source": [
    "# build the model from a config file and a checkpoint file\n",
    "model = init_detector(config_file, checkpoint_file, device='cuda:0')"
   ]
  },
  {
   "cell_type": "code",
   "execution_count": 4,
   "metadata": {},
   "outputs": [],
   "source": [
    "# test a single image\n",
    "img = './gtsdb/00121.jpg'\n",
    "result = inference_detector(model, img)"
   ]
  },
  {
   "cell_type": "code",
   "execution_count": null,
   "metadata": {
    "scrolled": false
   },
   "outputs": [],
   "source": [
    "# show the results\n",
    "show_result(img, result, model.CLASSES)"
   ]
  },
  {
   "cell_type": "code",
   "execution_count": null,
   "metadata": {},
   "outputs": [],
   "source": []
  }
 ],
 "metadata": {
  "kernelspec": {
   "display_name": "Python 3",
   "language": "python",
   "name": "python3"
  },
  "language_info": {
   "codemirror_mode": {
    "name": "ipython",
    "version": 3
   },
   "file_extension": ".py",
   "mimetype": "text/x-python",
   "name": "python",
   "nbconvert_exporter": "python",
   "pygments_lexer": "ipython3",
   "version": "3.6.4"
  }
 },
 "nbformat": 4,
 "nbformat_minor": 2
}
